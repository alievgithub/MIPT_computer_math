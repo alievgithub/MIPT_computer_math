{
  "nbformat": 4,
  "nbformat_minor": 0,
  "metadata": {
    "colab": {
      "name": "euler_recalculation.ipynb",
      "provenance": [],
      "collapsed_sections": []
    },
    "kernelspec": {
      "name": "python3",
      "display_name": "Python 3"
    },
    "language_info": {
      "name": "python"
    }
  },
  "cells": [
    {
      "cell_type": "code",
      "execution_count": 15,
      "metadata": {
        "colab": {
          "base_uri": "https://localhost:8080/"
        },
        "id": "x4Mmjr1gMdL8",
        "outputId": "bce3d731-91ea-47a8-840f-d50987831877"
      },
      "outputs": [
        {
          "output_type": "stream",
          "name": "stdout",
          "text": [
            "x =  y =\n",
            "0.0017 -0.0\n",
            "0.0522 -0.05\n",
            "0.1027 -0.1\n",
            "0.1532 -0.15\n",
            "0.2037 -0.2\n",
            "0.2542 -0.25\n",
            "0.3047 -0.3\n",
            "0.3552 -0.35\n",
            "0.4057 -0.39\n",
            "0.4562 -0.44\n",
            "0.5067 -0.48\n",
            "0.5572 -0.52\n",
            "0.6077 -0.55\n",
            "0.6582 -0.58\n",
            "0.7088 -0.61\n",
            "0.7593 -0.64\n",
            "0.8098 -0.66\n",
            "0.8603 -0.69\n",
            "0.9108 -0.7\n",
            "0.9613 -0.72\n",
            "Euler recalculation.csv:\n",
            "0.0016835016835016834, 0.05218855218855217, 0.10269360269360282, 0.15319865319865328, 0.20370370370370355, 0.25420875420875383, 0.3047138047138041, 0.3552188552188544, 0.40572390572390465, 0.45622895622895493, 0.5067340067340054, 0.5572390572390573, 0.6077441077441093, 0.6582491582491612, 0.7087542087542131, 0.7592592592592651, 0.809764309764317, 0.860269360269369, 0.9107744107744209, 0.9612794612794728, \n",
            "-0.001683501675469119, -0.0521848397362718, -0.10263803912347637, -0.15292418965606133, -0.20284992142777283, -0.25215427086141784, -0.3005208832302263, -0.34759594064506677, -0.3930109139348677, -0.4364079050318824, -0.47746440898651693, -0.5159141584501302, -0.5515614269170294, -0.5842875200181418, -0.6140497035409143, -0.6408740315987792, -0.6648441783646729, -0.6860884296580385, -0.7047666263046608, -0.7210582968783832, "
          ]
        }
      ],
      "source": [
        "import math\n",
        "from sympy import *\n",
        "\n",
        "x = Symbol(\"x\")\n",
        "y = Symbol(\"y\")\n",
        "\n",
        "def func(x, y):\n",
        " \treturn (1 - x*y**2)/(x**2*y - 1)\n",
        "\n",
        "def printData(x, data):\n",
        "\tfor i in range(len(data)):\n",
        "\t\tprint(\"The value at\", \"%.1f\" % x[i], \"is\", \"%.4f\" % data[i])\n",
        "\n",
        "# Задаем начальные данные \n",
        "x = 0\n",
        "xn = 1\n",
        "h = 0.0016835016835016834\n",
        "Y = 0\n",
        "y = Y\n",
        "\n",
        "euler = []\n",
        "euler.append(Y)\n",
        "euler_recal = []\n",
        "euler_recal.append(y)\n",
        "x_value = []\n",
        "x_value.append(x)\n",
        "\n",
        "# Цикл реализует метод Эйлера и метод Эйлера с пересчетом \n",
        "while x < xn:\n",
        "\t# Считаем значение функции методом Эйлера\n",
        "\tY = y + h * func(x, y)\n",
        "\teuler.append(Y)\n",
        "  # Пересчитываем полученное значение\n",
        "\ty += 0.5 * h * (func(x, y) + func(x + h, Y))\n",
        "\teuler_recal.append(y)\n",
        "\tx += h\n",
        "\tx_value.append(x)\n",
        "\n",
        "#print(\"Euler:\")\n",
        "#print(x_value, euler)\n",
        "#print(\"Euler recalculation:\")\n",
        "#printData(x_value, euler_recal)\n",
        "\n",
        "\n",
        "i = 1\n",
        "print(\"x =\", \" y =\")\n",
        "while i <  594:\n",
        "  print(round(x_value[i], 4), round(euler_recal[i], 2))\n",
        "  i += 30\n",
        "\n",
        "print(\"Euler recalculation.csv:\")\n",
        "\n",
        "i = 1\n",
        "while i <  594:\n",
        "  print(x_value[i], end = ', ')\n",
        "  i += 30\n",
        "print()\n",
        "\n",
        "i = 1\n",
        "while i <  594:\n",
        "   print(euler_recal[i], end = ', ')\n",
        "   i += 30"
      ]
    }
  ]
}