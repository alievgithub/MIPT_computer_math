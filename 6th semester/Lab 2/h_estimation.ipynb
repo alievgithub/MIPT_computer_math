{
  "nbformat": 4,
  "nbformat_minor": 0,
  "metadata": {
    "colab": {
      "name": "h_estimation.ipynb",
      "provenance": []
    },
    "kernelspec": {
      "name": "python3",
      "display_name": "Python 3"
    },
    "language_info": {
      "name": "python"
    }
  },
  "cells": [
    {
      "cell_type": "code",
      "execution_count": 12,
      "metadata": {
        "colab": {
          "base_uri": "https://localhost:8080/"
        },
        "id": "80kDghp86i3U",
        "outputId": "dc2768f9-e420-4655-d12c-d4f13de8fecb"
      },
      "outputs": [
        {
          "output_type": "stream",
          "name": "stdout",
          "text": [
            "0.0016835016835016834\n"
          ]
        }
      ],
      "source": [
        "import math\n",
        "from sympy import *\n",
        "\n",
        "x = Symbol(\"x\")\n",
        "y = Symbol(\"y\")\n",
        "\n",
        "def func(x, y):\n",
        " \treturn (1 - x*y**2)/(x**2*y - 1)\n",
        "\n",
        "# Задаем начальные данные \n",
        "a = 0\n",
        "b = 1\n",
        "x_0 = 0\n",
        "xn = 1\n",
        "e = 0.0001\n",
        "N = 0\n",
        "Y_0 = 0\n",
        "y = Y\n",
        "\n",
        "euler = []\n",
        "euler.append(Y)\n",
        "euler_recal = []\n",
        "euler_recal.append(y)\n",
        "x_value = []\n",
        "x_value.append(x)\n",
        "\n",
        "# Цикл реализует метод Эйлера и метод Эйлера с пересчетом \n",
        "def euler_recalculation(h):\n",
        "  x = x_0\n",
        "  Y = Y_0\n",
        "  y_new = Y_0\n",
        "  while x < b:\n",
        "    # Считаем значение функции методом Эйлера\n",
        "    Y = y_new + h * func(x, y_new)\n",
        "    euler.append(Y)\n",
        "    # Пересчитываем полученное значение\n",
        "    y_new += 0.5 * h * (func(x, y_new) + func(x + h, y_new))\n",
        "    euler_recal.append(y_new)\n",
        "    x += h\n",
        "    x_value.append(x)\n",
        "\n",
        "  return y_new\n",
        "\n",
        "while True:\n",
        "    N += 1  # число разбиений\n",
        "    h = (b - a) / N  # шаг\n",
        "    res_1 = euler_recalculation(h / 2)\n",
        "    res_2 = euler_recalculation(h)\n",
        "    #print(res_1, res_2)\n",
        "    delta = abs((res_1 - res_2))\n",
        "    if delta < e:\n",
        "        print(h)\n",
        "        break"
      ]
    }
  ]
}